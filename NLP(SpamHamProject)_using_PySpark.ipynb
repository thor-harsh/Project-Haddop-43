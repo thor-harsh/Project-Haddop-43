{
  "nbformat": 4,
  "nbformat_minor": 0,
  "metadata": {
    "colab": {
      "provenance": []
    },
    "kernelspec": {
      "name": "python3",
      "display_name": "Python 3"
    },
    "language_info": {
      "name": "python"
    }
  },
  "cells": [
    {
      "cell_type": "code",
      "execution_count": 1,
      "metadata": {
        "colab": {
          "base_uri": "https://localhost:8080/"
        },
        "id": "6QihFsgXKkDX",
        "outputId": "4c14f900-6227-473e-998b-820226234b8e"
      },
      "outputs": [
        {
          "output_type": "stream",
          "name": "stdout",
          "text": [
            "Collecting pyspark\n",
            "  Downloading pyspark-3.5.0.tar.gz (316.9 MB)\n",
            "\u001b[2K     \u001b[90m━━━━━━━━━━━━━━━━━━━━━━━━━━━━━━━━━━━━━━━━\u001b[0m \u001b[32m316.9/316.9 MB\u001b[0m \u001b[31m4.9 MB/s\u001b[0m eta \u001b[36m0:00:00\u001b[0m\n",
            "\u001b[?25h  Preparing metadata (setup.py) ... \u001b[?25l\u001b[?25hdone\n",
            "Requirement already satisfied: py4j==0.10.9.7 in /usr/local/lib/python3.10/dist-packages (from pyspark) (0.10.9.7)\n",
            "Building wheels for collected packages: pyspark\n",
            "  Building wheel for pyspark (setup.py) ... \u001b[?25l\u001b[?25hdone\n",
            "  Created wheel for pyspark: filename=pyspark-3.5.0-py2.py3-none-any.whl size=317425344 sha256=9fcbd02e60890ddc4c4848b9c7205515ebf6ab218cbeb23148f33b7ce863322b\n",
            "  Stored in directory: /root/.cache/pip/wheels/41/4e/10/c2cf2467f71c678cfc8a6b9ac9241e5e44a01940da8fbb17fc\n",
            "Successfully built pyspark\n",
            "Installing collected packages: pyspark\n",
            "Successfully installed pyspark-3.5.0\n"
          ]
        }
      ],
      "source": [
        "pip install pyspark"
      ]
    },
    {
      "cell_type": "code",
      "source": [
        "from pyspark.sql import SparkSession"
      ],
      "metadata": {
        "id": "ra1hS796KmS0"
      },
      "execution_count": 2,
      "outputs": []
    },
    {
      "cell_type": "code",
      "source": [
        "spark=SparkSession.builder.appName('nlp').getOrCreate()"
      ],
      "metadata": {
        "id": "3gOSQ22vKohO"
      },
      "execution_count": 3,
      "outputs": []
    },
    {
      "cell_type": "code",
      "source": [
        "data=spark.read.csv('SMSSpamCollection',inferSchema=True,sep='\\t')"
      ],
      "metadata": {
        "id": "DRFpJaFNKuL9"
      },
      "execution_count": 8,
      "outputs": []
    },
    {
      "cell_type": "code",
      "source": [
        "data.show()"
      ],
      "metadata": {
        "colab": {
          "base_uri": "https://localhost:8080/"
        },
        "id": "obmDOv-GLG1E",
        "outputId": "176530f4-f5a3-4972-9a61-9776af28f424"
      },
      "execution_count": 9,
      "outputs": [
        {
          "output_type": "stream",
          "name": "stdout",
          "text": [
            "+----+--------------------+\n",
            "| _c0|                 _c1|\n",
            "+----+--------------------+\n",
            "| ham|Go until jurong p...|\n",
            "| ham|Ok lar... Joking ...|\n",
            "|spam|Free entry in 2 a...|\n",
            "| ham|U dun say so earl...|\n",
            "| ham|Nah I don't think...|\n",
            "|spam|FreeMsg Hey there...|\n",
            "| ham|Even my brother i...|\n",
            "| ham|As per your reque...|\n",
            "|spam|WINNER!! As a val...|\n",
            "|spam|Had your mobile 1...|\n",
            "| ham|I'm gonna be home...|\n",
            "|spam|SIX chances to wi...|\n",
            "|spam|URGENT! You have ...|\n",
            "| ham|I've been searchi...|\n",
            "| ham|I HAVE A DATE ON ...|\n",
            "|spam|XXXMobileMovieClu...|\n",
            "| ham|Oh k...i'm watchi...|\n",
            "| ham|Eh u remember how...|\n",
            "| ham|Fine if thats th...|\n",
            "|spam|England v Macedon...|\n",
            "+----+--------------------+\n",
            "only showing top 20 rows\n",
            "\n"
          ]
        }
      ]
    },
    {
      "cell_type": "code",
      "source": [
        "data=data.withColumnRenamed('_c0','class').withColumnRenamed('_c1','text')"
      ],
      "metadata": {
        "id": "VUaflwHhLJ1B"
      },
      "execution_count": 10,
      "outputs": []
    },
    {
      "cell_type": "code",
      "source": [
        "data.show()"
      ],
      "metadata": {
        "colab": {
          "base_uri": "https://localhost:8080/"
        },
        "id": "BUJxMdhTLdmx",
        "outputId": "097a7eb8-9a2b-45ff-88a3-666c9a0b0746"
      },
      "execution_count": 11,
      "outputs": [
        {
          "output_type": "stream",
          "name": "stdout",
          "text": [
            "+-----+--------------------+\n",
            "|class|                text|\n",
            "+-----+--------------------+\n",
            "|  ham|Go until jurong p...|\n",
            "|  ham|Ok lar... Joking ...|\n",
            "| spam|Free entry in 2 a...|\n",
            "|  ham|U dun say so earl...|\n",
            "|  ham|Nah I don't think...|\n",
            "| spam|FreeMsg Hey there...|\n",
            "|  ham|Even my brother i...|\n",
            "|  ham|As per your reque...|\n",
            "| spam|WINNER!! As a val...|\n",
            "| spam|Had your mobile 1...|\n",
            "|  ham|I'm gonna be home...|\n",
            "| spam|SIX chances to wi...|\n",
            "| spam|URGENT! You have ...|\n",
            "|  ham|I've been searchi...|\n",
            "|  ham|I HAVE A DATE ON ...|\n",
            "| spam|XXXMobileMovieClu...|\n",
            "|  ham|Oh k...i'm watchi...|\n",
            "|  ham|Eh u remember how...|\n",
            "|  ham|Fine if thats th...|\n",
            "| spam|England v Macedon...|\n",
            "+-----+--------------------+\n",
            "only showing top 20 rows\n",
            "\n"
          ]
        }
      ]
    },
    {
      "cell_type": "code",
      "source": [
        "from pyspark.sql.functions import length"
      ],
      "metadata": {
        "id": "wASpqgCILeBb"
      },
      "execution_count": 12,
      "outputs": []
    },
    {
      "cell_type": "code",
      "source": [
        "data=data.withColumn('length',length(data['text']))"
      ],
      "metadata": {
        "id": "LJG_NTl5L9_T"
      },
      "execution_count": 13,
      "outputs": []
    },
    {
      "cell_type": "code",
      "source": [
        "data.show()"
      ],
      "metadata": {
        "colab": {
          "base_uri": "https://localhost:8080/"
        },
        "id": "Q27921mzMFW8",
        "outputId": "0b7923fd-e6ec-450e-b829-93d381e7c4e7"
      },
      "execution_count": 14,
      "outputs": [
        {
          "output_type": "stream",
          "name": "stdout",
          "text": [
            "+-----+--------------------+------+\n",
            "|class|                text|length|\n",
            "+-----+--------------------+------+\n",
            "|  ham|Go until jurong p...|   111|\n",
            "|  ham|Ok lar... Joking ...|    29|\n",
            "| spam|Free entry in 2 a...|   155|\n",
            "|  ham|U dun say so earl...|    49|\n",
            "|  ham|Nah I don't think...|    61|\n",
            "| spam|FreeMsg Hey there...|   147|\n",
            "|  ham|Even my brother i...|    77|\n",
            "|  ham|As per your reque...|   160|\n",
            "| spam|WINNER!! As a val...|   157|\n",
            "| spam|Had your mobile 1...|   154|\n",
            "|  ham|I'm gonna be home...|   109|\n",
            "| spam|SIX chances to wi...|   136|\n",
            "| spam|URGENT! You have ...|   155|\n",
            "|  ham|I've been searchi...|   196|\n",
            "|  ham|I HAVE A DATE ON ...|    35|\n",
            "| spam|XXXMobileMovieClu...|   149|\n",
            "|  ham|Oh k...i'm watchi...|    26|\n",
            "|  ham|Eh u remember how...|    81|\n",
            "|  ham|Fine if thats th...|    56|\n",
            "| spam|England v Macedon...|   155|\n",
            "+-----+--------------------+------+\n",
            "only showing top 20 rows\n",
            "\n"
          ]
        }
      ]
    },
    {
      "cell_type": "code",
      "source": [
        "data.groupby('class').mean().show()"
      ],
      "metadata": {
        "colab": {
          "base_uri": "https://localhost:8080/"
        },
        "id": "RgFb02eeMF5F",
        "outputId": "4bc91661-f607-479b-da89-7cc655bc32e5"
      },
      "execution_count": 15,
      "outputs": [
        {
          "output_type": "stream",
          "name": "stdout",
          "text": [
            "+-----+-----------------+\n",
            "|class|      avg(length)|\n",
            "+-----+-----------------+\n",
            "|  ham|71.45431945307645|\n",
            "| spam|138.6706827309237|\n",
            "+-----+-----------------+\n",
            "\n"
          ]
        }
      ]
    },
    {
      "cell_type": "code",
      "source": [
        "from pyspark.ml.feature import (StringIndexer,VectorAssembler,Tokenizer,StopWordsRemover,CountVectorizer,\n",
        "                                IDF)"
      ],
      "metadata": {
        "id": "o7jOvfdvMP-I"
      },
      "execution_count": 16,
      "outputs": []
    },
    {
      "cell_type": "code",
      "source": [
        "tokenizer=Tokenizer(inputCol='text',outputCol='token_text')\n",
        "stop_remove=StopWordsRemover(inputCol='token_text',outputCol='stop_token')\n",
        "count_vec=CountVectorizer(inputCol='stop_token',outputCol='c_vec')\n",
        "idf=IDF(inputCol='c_vec',outputCol='tf_idf')\n",
        "ham_spam_to_numeric=StringIndexer(inputCol='class',outputCol='label')"
      ],
      "metadata": {
        "id": "r2WO4Mx_N1mx"
      },
      "execution_count": 18,
      "outputs": []
    },
    {
      "cell_type": "code",
      "source": [
        "clean_up=VectorAssembler(inputCols=['tf_idf','length'],outputCol='features')"
      ],
      "metadata": {
        "id": "W0boVcFmPAiJ"
      },
      "execution_count": 22,
      "outputs": []
    },
    {
      "cell_type": "code",
      "source": [
        "from pyspark.ml.classification import NaiveBayes,RandomForestClassifier,DecisionTreeClassifier"
      ],
      "metadata": {
        "id": "xNGZbz8lOgCT"
      },
      "execution_count": 55,
      "outputs": []
    },
    {
      "cell_type": "code",
      "source": [
        "nb=NaiveBayes()"
      ],
      "metadata": {
        "id": "G9HMf1GrOt3I"
      },
      "execution_count": 54,
      "outputs": []
    },
    {
      "cell_type": "code",
      "source": [
        "rfc=RandomForestClassifier()\n",
        "dtc=DecisionTreeClassifier()"
      ],
      "metadata": {
        "id": "Jo1WIcX_RVBr"
      },
      "execution_count": 57,
      "outputs": []
    },
    {
      "cell_type": "code",
      "source": [
        "from pyspark.ml import Pipeline"
      ],
      "metadata": {
        "id": "Ddo5kO9xOygr"
      },
      "execution_count": 25,
      "outputs": []
    },
    {
      "cell_type": "code",
      "source": [
        "data_prep=Pipeline(stages=[ham_spam_to_numeric,tokenizer,\n",
        "                           stop_remove,count_vec,idf,clean_up])"
      ],
      "metadata": {
        "id": "OitUXG1kO0qL"
      },
      "execution_count": 26,
      "outputs": []
    },
    {
      "cell_type": "code",
      "source": [
        "cleaner=data_prep.fit(data)"
      ],
      "metadata": {
        "id": "1T1zjvdcPQzI"
      },
      "execution_count": 27,
      "outputs": []
    },
    {
      "cell_type": "code",
      "source": [
        "clean_data=cleaner.transform(data)"
      ],
      "metadata": {
        "id": "cbWndvkdPe7B"
      },
      "execution_count": 29,
      "outputs": []
    },
    {
      "cell_type": "code",
      "source": [
        "clean_data=clean_data.select('label','features')"
      ],
      "metadata": {
        "id": "5PDLrMBWPhmG"
      },
      "execution_count": 32,
      "outputs": []
    },
    {
      "cell_type": "code",
      "source": [
        "clean_data.show()"
      ],
      "metadata": {
        "colab": {
          "base_uri": "https://localhost:8080/"
        },
        "id": "ofh6OASIPtxp",
        "outputId": "3315f64a-fb33-4c90-b522-9716baa6cb14"
      },
      "execution_count": 33,
      "outputs": [
        {
          "output_type": "stream",
          "name": "stdout",
          "text": [
            "+-----+--------------------+\n",
            "|label|            features|\n",
            "+-----+--------------------+\n",
            "|  0.0|(13424,[7,11,31,6...|\n",
            "|  0.0|(13424,[0,24,301,...|\n",
            "|  1.0|(13424,[2,13,19,3...|\n",
            "|  0.0|(13424,[0,70,80,1...|\n",
            "|  0.0|(13424,[36,134,31...|\n",
            "|  1.0|(13424,[10,60,140...|\n",
            "|  0.0|(13424,[10,53,102...|\n",
            "|  0.0|(13424,[127,185,4...|\n",
            "|  1.0|(13424,[1,47,121,...|\n",
            "|  1.0|(13424,[0,1,13,27...|\n",
            "|  0.0|(13424,[18,43,117...|\n",
            "|  1.0|(13424,[8,16,37,8...|\n",
            "|  1.0|(13424,[13,30,47,...|\n",
            "|  0.0|(13424,[39,95,221...|\n",
            "|  0.0|(13424,[555,1797,...|\n",
            "|  1.0|(13424,[30,109,11...|\n",
            "|  0.0|(13424,[82,214,44...|\n",
            "|  0.0|(13424,[0,2,49,13...|\n",
            "|  0.0|(13424,[0,74,105,...|\n",
            "|  1.0|(13424,[4,30,33,5...|\n",
            "+-----+--------------------+\n",
            "only showing top 20 rows\n",
            "\n"
          ]
        }
      ]
    },
    {
      "cell_type": "code",
      "source": [
        "(train_data,test_data)=clean_data.randomSplit([0.7,0.3])"
      ],
      "metadata": {
        "id": "n41pSwA7P1cF"
      },
      "execution_count": 34,
      "outputs": []
    },
    {
      "cell_type": "code",
      "source": [
        "spam_detector=nb.fit(train_data)"
      ],
      "metadata": {
        "id": "IOxpsI-NP7tU"
      },
      "execution_count": 35,
      "outputs": []
    },
    {
      "cell_type": "code",
      "source": [
        "spam_detector_rfc=rfc.fit(train_data)\n",
        "spam_detector_dtc=dtc.fit(train_data)"
      ],
      "metadata": {
        "id": "s6F-HOXRRruv"
      },
      "execution_count": 58,
      "outputs": []
    },
    {
      "cell_type": "code",
      "source": [],
      "metadata": {
        "id": "8Ip8zAEKRrcu"
      },
      "execution_count": null,
      "outputs": []
    },
    {
      "cell_type": "code",
      "source": [
        "data.printSchema()"
      ],
      "metadata": {
        "colab": {
          "base_uri": "https://localhost:8080/"
        },
        "id": "VB65XspDQKeS",
        "outputId": "d110e501-df83-4eb0-d35d-f84448904181"
      },
      "execution_count": 36,
      "outputs": [
        {
          "output_type": "stream",
          "name": "stdout",
          "text": [
            "root\n",
            " |-- class: string (nullable = true)\n",
            " |-- text: string (nullable = true)\n",
            " |-- length: integer (nullable = true)\n",
            "\n"
          ]
        }
      ]
    },
    {
      "cell_type": "code",
      "source": [
        "test_results=spam_detector.transform(test_data)"
      ],
      "metadata": {
        "id": "u6thq6VxQMjb"
      },
      "execution_count": 37,
      "outputs": []
    },
    {
      "cell_type": "code",
      "source": [
        "test_results_rfc=spam_detector_rfc.transform(test_data)\n",
        "test_results_dtc=spam_detector_dtc.transform(test_data)"
      ],
      "metadata": {
        "id": "3jsNL29yRz_r"
      },
      "execution_count": 59,
      "outputs": []
    },
    {
      "cell_type": "code",
      "source": [],
      "metadata": {
        "id": "zvDknAl6Rzl_"
      },
      "execution_count": null,
      "outputs": []
    },
    {
      "cell_type": "code",
      "source": [
        "test_results.show()"
      ],
      "metadata": {
        "colab": {
          "base_uri": "https://localhost:8080/"
        },
        "id": "ZW3Ghs_fQZwa",
        "outputId": "1c26b710-30f9-4597-c9b8-9a09d22d971d"
      },
      "execution_count": 38,
      "outputs": [
        {
          "output_type": "stream",
          "name": "stdout",
          "text": [
            "+-----+--------------------+--------------------+--------------------+----------+\n",
            "|label|            features|       rawPrediction|         probability|prediction|\n",
            "+-----+--------------------+--------------------+--------------------+----------+\n",
            "|  0.0|(13424,[0,1,2,7,8...|[-815.51459093778...|[1.0,1.0415899046...|       0.0|\n",
            "|  0.0|(13424,[0,1,3,9,1...|[-575.69807263924...|[0.99999999999999...|       0.0|\n",
            "|  0.0|(13424,[0,1,7,8,1...|[-886.48086427219...|[1.0,4.2250741481...|       0.0|\n",
            "|  0.0|(13424,[0,1,7,8,1...|[-1191.8558295935...|[1.0,3.6202976198...|       0.0|\n",
            "|  0.0|(13424,[0,1,21,27...|[-757.92511378945...|[1.0,1.8568824775...|       0.0|\n",
            "|  0.0|(13424,[0,1,27,85...|[-1523.3770915088...|[0.99999986970940...|       0.0|\n",
            "|  0.0|(13424,[0,1,46,17...|[-1137.2377472112...|[3.64611018719485...|       1.0|\n",
            "|  0.0|(13424,[0,1,150,1...|[-250.82077753372...|[0.98868192058953...|       0.0|\n",
            "|  0.0|(13424,[0,1,428,6...|[-324.31698592898...|[0.99999924736040...|       0.0|\n",
            "|  0.0|(13424,[0,1,881,1...|[-95.920376651861...|[0.99999997397194...|       0.0|\n",
            "|  0.0|(13424,[0,1,881,1...|[-97.607593176944...|[0.99999997998563...|       0.0|\n",
            "|  0.0|(13424,[0,2,3,4,6...|[-1300.4478353755...|[1.0,1.1194918301...|       0.0|\n",
            "|  0.0|(13424,[0,2,3,5,6...|[-2554.1595450657...|[1.0,1.9404471659...|       0.0|\n",
            "|  0.0|(13424,[0,2,3,6,9...|[-3413.6327868232...|[1.0,1.2828186234...|       0.0|\n",
            "|  0.0|(13424,[0,2,3,6,9...|[-3413.6327868232...|[1.0,1.2828186234...|       0.0|\n",
            "|  0.0|(13424,[0,2,3,8,2...|[-1641.2804299815...|[1.0,1.2848108218...|       0.0|\n",
            "|  0.0|(13424,[0,2,4,5,1...|[-2487.3997247736...|[1.0,1.7640394726...|       0.0|\n",
            "|  0.0|(13424,[0,2,4,5,1...|[-1615.2182740879...|[1.0,1.7409629594...|       0.0|\n",
            "|  0.0|(13424,[0,2,4,8,1...|[-1308.0697141401...|[1.0,4.0376421636...|       0.0|\n",
            "|  0.0|(13424,[0,2,4,10,...|[-1217.6545352372...|[1.0,1.2167271899...|       0.0|\n",
            "+-----+--------------------+--------------------+--------------------+----------+\n",
            "only showing top 20 rows\n",
            "\n"
          ]
        }
      ]
    },
    {
      "cell_type": "code",
      "source": [
        "from pyspark.ml.evaluation import MulticlassClassificationEvaluator"
      ],
      "metadata": {
        "id": "q8RQygZJQa2g"
      },
      "execution_count": 39,
      "outputs": []
    },
    {
      "cell_type": "code",
      "source": [
        "acc_eval=MulticlassClassificationEvaluator()"
      ],
      "metadata": {
        "id": "EELX7uYDQkyq"
      },
      "execution_count": 50,
      "outputs": []
    },
    {
      "cell_type": "code",
      "source": [
        "acc=acc_eval.evaluate(test_results)"
      ],
      "metadata": {
        "id": "jW4bG4hAQr5-"
      },
      "execution_count": 51,
      "outputs": []
    },
    {
      "cell_type": "code",
      "source": [
        "acc"
      ],
      "metadata": {
        "colab": {
          "base_uri": "https://localhost:8080/"
        },
        "id": "abpe0j2IQwG4",
        "outputId": "0f9038cd-31d0-4035-aef8-b908ed01f614"
      },
      "execution_count": 52,
      "outputs": [
        {
          "output_type": "execute_result",
          "data": {
            "text/plain": [
              "0.9314825697091209"
            ]
          },
          "metadata": {},
          "execution_count": 52
        }
      ]
    },
    {
      "cell_type": "code",
      "source": [
        "acc_rfc=acc_eval.evaluate(test_results_rfc)\n",
        "acc_rfc"
      ],
      "metadata": {
        "colab": {
          "base_uri": "https://localhost:8080/"
        },
        "id": "fZKPKt9ZQw38",
        "outputId": "db0be0c5-6bf6-480b-94ed-1e0bc550f0e4"
      },
      "execution_count": 60,
      "outputs": [
        {
          "output_type": "execute_result",
          "data": {
            "text/plain": [
              "0.8178728745402478"
            ]
          },
          "metadata": {},
          "execution_count": 60
        }
      ]
    },
    {
      "cell_type": "code",
      "source": [
        "acc_dtc=acc_eval.evaluate(test_results_dtc)\n",
        "acc_dtc"
      ],
      "metadata": {
        "colab": {
          "base_uri": "https://localhost:8080/"
        },
        "id": "RQHNKLtbSCYn",
        "outputId": "fefa5a83-1c62-4f91-f4a9-d19bbfc50ec9"
      },
      "execution_count": 61,
      "outputs": [
        {
          "output_type": "execute_result",
          "data": {
            "text/plain": [
              "0.9430139826529719"
            ]
          },
          "metadata": {},
          "execution_count": 61
        }
      ]
    },
    {
      "cell_type": "code",
      "source": [],
      "metadata": {
        "id": "1o6lP-q5SFMO"
      },
      "execution_count": null,
      "outputs": []
    }
  ]
}